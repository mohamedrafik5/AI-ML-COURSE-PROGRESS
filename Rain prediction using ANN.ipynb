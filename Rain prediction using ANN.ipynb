{
 "cells": [
  {
   "cell_type": "code",
   "execution_count": 2,
   "id": "2cfe1e60-20ac-44cb-9db4-3c7a58871f4e",
   "metadata": {},
   "outputs": [],
   "source": [
    "import pandas as pd\n",
    "import numpy as np\n",
    "from sklearn.model_selection import train_test_split\n",
    "from sklearn.preprocessing import MinMaxScaler\n",
    "from sklearn.metrics import r2_score, mean_squared_error\n",
    "import matplotlib.pyplot as plt\n",
    "from tensorflow.keras.models import Sequential\n",
    "from tensorflow.keras.layers import Dense, Dropout, BatchNormalization\n",
    "from tensorflow.keras.optimizers import Adam\n",
    "from tensorflow.keras.callbacks import EarlyStopping, ReduceLROnPlateau"
   ]
  },
  {
   "cell_type": "code",
   "execution_count": 3,
   "id": "4aed108a-292d-4c4b-a3c1-90374eb3b7ef",
   "metadata": {},
   "outputs": [
    {
     "name": "stdout",
     "output_type": "stream",
     "text": [
      "         Date  Year  Month  Temperature (°C)  Humidity (%)  Wind Speed (km/h)  \\\n",
      "0  2019-01-01  2019      1              31.0          74.5               13.3   \n",
      "1  2019-01-02  2019      1              29.7          87.1                9.5   \n",
      "2  2019-01-03  2019      1              31.3          79.5               12.4   \n",
      "3  2019-01-04  2019      1              33.0          80.1               13.1   \n",
      "4  2019-01-05  2019      1              29.5          83.5               12.0   \n",
      "\n",
      "   Rainfall (cm)  Rainfall (mm)  \n",
      "0            0.5            5.0  \n",
      "1            0.1            1.0  \n",
      "2            0.3            3.0  \n",
      "3            0.1            1.0  \n",
      "4            1.4           14.0  \n",
      "<class 'pandas.core.frame.DataFrame'>\n",
      "RangeIndex: 1826 entries, 0 to 1825\n",
      "Data columns (total 8 columns):\n",
      " #   Column             Non-Null Count  Dtype  \n",
      "---  ------             --------------  -----  \n",
      " 0   Date               1826 non-null   object \n",
      " 1   Year               1826 non-null   int64  \n",
      " 2   Month              1826 non-null   int64  \n",
      " 3   Temperature (°C)   1826 non-null   float64\n",
      " 4   Humidity (%)       1826 non-null   float64\n",
      " 5   Wind Speed (km/h)  1826 non-null   float64\n",
      " 6   Rainfall (cm)      1826 non-null   float64\n",
      " 7   Rainfall (mm)      1826 non-null   float64\n",
      "dtypes: float64(5), int64(2), object(1)\n",
      "memory usage: 114.2+ KB\n",
      "None\n"
     ]
    }
   ],
   "source": [
    "df = pd.read_csv(r\"C:\\Users\\ASUS\\Downloads\\chennai_rainfall_2019_2023_mm.csv\")\n",
    "\n",
    "print(df.head())\n",
    "print(df.info())"
   ]
  },
  {
   "cell_type": "code",
   "execution_count": 4,
   "id": "c4b3ec98-0d5c-4357-809e-6b42b69cacbe",
   "metadata": {},
   "outputs": [],
   "source": [
    "# Log-transform target\n",
    "df['Rainfall (cm)'] = np.log1p(df['Rainfall (cm)'])\n",
    "# Define features (X) and target (y)\n",
    "X = df.drop(['Rainfall (cm)','Rainfall (mm)','Date'], axis=1).values\n",
    "y = df['Rainfall (cm)'].values\n",
    "\n",
    "# Scale features (0–1)\n",
    "scaler = MinMaxScaler()\n",
    "X_scaled = scaler.fit_transform(X)"
   ]
  },
  {
   "cell_type": "code",
   "execution_count": 5,
   "id": "ff4deb11-e732-4a3d-a674-96b0ea6d8bab",
   "metadata": {},
   "outputs": [],
   "source": [
    "from sklearn.model_selection import train_test_split\n",
    "\n",
    "X_train, X_test, y_train, y_test = train_test_split(\n",
    "    X_scaled, y, test_size=0.2, shuffle=True, random_state=42\n",
    ")"
   ]
  },
  {
   "cell_type": "code",
   "execution_count": 6,
   "id": "a1bfd542-627e-410c-8be7-5487b976f291",
   "metadata": {},
   "outputs": [],
   "source": [
    "def build_ann(input_dim):\n",
    "    model = Sequential([\n",
    "        Dense(128, activation='relu', input_shape=(input_dim,)),\n",
    "        BatchNormalization(),\n",
    "        Dropout(0.3),\n",
    "\n",
    "        Dense(64, activation='relu'),\n",
    "        BatchNormalization(),\n",
    "        Dropout(0.3),\n",
    "\n",
    "        Dense(32, activation='relu'),\n",
    "        BatchNormalization(),\n",
    "\n",
    "        Dense(1)  # regression output\n",
    "    ])\n",
    "    model.compile(optimizer=Adam(learning_rate=0.0005),\n",
    "                  loss='mse', metrics=['mae'])\n",
    "    return model\n",
    "\n",
    "ann_model = build_ann(X_train.shape[1])\n"
   ]
  },
  {
   "cell_type": "code",
   "execution_count": 7,
   "id": "d90301d0-657b-4cd8-b3c2-1c0e73725f1d",
   "metadata": {},
   "outputs": [],
   "source": [
    "# Callbacks\n",
    "callbacks = [\n",
    "    EarlyStopping(patience=20, restore_best_weights=True),\n",
    "    ReduceLROnPlateau(factor=0.5, patience=10, verbose=1)\n",
    "]"
   ]
  },
  {
   "cell_type": "code",
   "execution_count": 8,
   "id": "69249f88-5da7-4e17-a33a-231942b12e5e",
   "metadata": {},
   "outputs": [
    {
     "name": "stdout",
     "output_type": "stream",
     "text": [
      "Epoch 1/200\n",
      "46/46 [==============================] - 2s 16ms/step - loss: 1.9688 - mae: 1.0900 - val_loss: 0.4778 - val_mae: 0.4956 - lr: 5.0000e-04\n",
      "Epoch 2/200\n",
      "46/46 [==============================] - 0s 4ms/step - loss: 1.1074 - mae: 0.8364 - val_loss: 0.3646 - val_mae: 0.4626 - lr: 5.0000e-04\n",
      "Epoch 3/200\n",
      "46/46 [==============================] - 0s 4ms/step - loss: 0.7585 - mae: 0.6862 - val_loss: 0.3317 - val_mae: 0.4622 - lr: 5.0000e-04\n",
      "Epoch 4/200\n",
      "46/46 [==============================] - 0s 4ms/step - loss: 0.6073 - mae: 0.6113 - val_loss: 0.3155 - val_mae: 0.4695 - lr: 5.0000e-04\n",
      "Epoch 5/200\n",
      "46/46 [==============================] - 0s 4ms/step - loss: 0.5436 - mae: 0.5807 - val_loss: 0.3135 - val_mae: 0.4756 - lr: 5.0000e-04\n",
      "Epoch 6/200\n",
      "46/46 [==============================] - 0s 4ms/step - loss: 0.4561 - mae: 0.5427 - val_loss: 0.3174 - val_mae: 0.4831 - lr: 5.0000e-04\n",
      "Epoch 7/200\n",
      "46/46 [==============================] - 0s 4ms/step - loss: 0.4273 - mae: 0.5131 - val_loss: 0.3115 - val_mae: 0.4781 - lr: 5.0000e-04\n",
      "Epoch 8/200\n",
      "46/46 [==============================] - 0s 4ms/step - loss: 0.4093 - mae: 0.5097 - val_loss: 0.3022 - val_mae: 0.4719 - lr: 5.0000e-04\n",
      "Epoch 9/200\n",
      "46/46 [==============================] - 0s 4ms/step - loss: 0.3868 - mae: 0.4957 - val_loss: 0.2797 - val_mae: 0.4478 - lr: 5.0000e-04\n",
      "Epoch 10/200\n",
      "46/46 [==============================] - 0s 4ms/step - loss: 0.3583 - mae: 0.4796 - val_loss: 0.2718 - val_mae: 0.4429 - lr: 5.0000e-04\n",
      "Epoch 11/200\n",
      "46/46 [==============================] - 0s 4ms/step - loss: 0.3289 - mae: 0.4593 - val_loss: 0.2601 - val_mae: 0.4265 - lr: 5.0000e-04\n",
      "Epoch 12/200\n",
      "46/46 [==============================] - 0s 4ms/step - loss: 0.3290 - mae: 0.4566 - val_loss: 0.2395 - val_mae: 0.4034 - lr: 5.0000e-04\n",
      "Epoch 13/200\n",
      "46/46 [==============================] - 0s 4ms/step - loss: 0.3174 - mae: 0.4523 - val_loss: 0.2322 - val_mae: 0.3925 - lr: 5.0000e-04\n",
      "Epoch 14/200\n",
      "46/46 [==============================] - 0s 4ms/step - loss: 0.3064 - mae: 0.4423 - val_loss: 0.2253 - val_mae: 0.3824 - lr: 5.0000e-04\n",
      "Epoch 15/200\n",
      "46/46 [==============================] - 0s 4ms/step - loss: 0.3030 - mae: 0.4433 - val_loss: 0.2175 - val_mae: 0.3719 - lr: 5.0000e-04\n",
      "Epoch 16/200\n",
      "46/46 [==============================] - 0s 4ms/step - loss: 0.2849 - mae: 0.4278 - val_loss: 0.2163 - val_mae: 0.3686 - lr: 5.0000e-04\n",
      "Epoch 17/200\n",
      "46/46 [==============================] - 0s 4ms/step - loss: 0.2911 - mae: 0.4367 - val_loss: 0.2136 - val_mae: 0.3653 - lr: 5.0000e-04\n",
      "Epoch 18/200\n",
      "46/46 [==============================] - 0s 4ms/step - loss: 0.3030 - mae: 0.4358 - val_loss: 0.2115 - val_mae: 0.3634 - lr: 5.0000e-04\n",
      "Epoch 19/200\n",
      "46/46 [==============================] - 0s 4ms/step - loss: 0.2901 - mae: 0.4307 - val_loss: 0.2103 - val_mae: 0.3608 - lr: 5.0000e-04\n",
      "Epoch 20/200\n",
      "46/46 [==============================] - 0s 4ms/step - loss: 0.2852 - mae: 0.4286 - val_loss: 0.2127 - val_mae: 0.3589 - lr: 5.0000e-04\n",
      "Epoch 21/200\n",
      "46/46 [==============================] - 0s 4ms/step - loss: 0.2837 - mae: 0.4256 - val_loss: 0.2063 - val_mae: 0.3562 - lr: 5.0000e-04\n",
      "Epoch 22/200\n",
      "46/46 [==============================] - 0s 4ms/step - loss: 0.2758 - mae: 0.4130 - val_loss: 0.2080 - val_mae: 0.3585 - lr: 5.0000e-04\n",
      "Epoch 23/200\n",
      "46/46 [==============================] - 0s 4ms/step - loss: 0.2566 - mae: 0.4024 - val_loss: 0.2055 - val_mae: 0.3553 - lr: 5.0000e-04\n",
      "Epoch 24/200\n",
      "46/46 [==============================] - 0s 4ms/step - loss: 0.2732 - mae: 0.4151 - val_loss: 0.2031 - val_mae: 0.3507 - lr: 5.0000e-04\n",
      "Epoch 25/200\n",
      "46/46 [==============================] - 0s 4ms/step - loss: 0.2552 - mae: 0.3990 - val_loss: 0.2025 - val_mae: 0.3518 - lr: 5.0000e-04\n",
      "Epoch 26/200\n",
      "46/46 [==============================] - 0s 4ms/step - loss: 0.2521 - mae: 0.3988 - val_loss: 0.2014 - val_mae: 0.3524 - lr: 5.0000e-04\n",
      "Epoch 27/200\n",
      "46/46 [==============================] - 0s 4ms/step - loss: 0.2568 - mae: 0.4023 - val_loss: 0.2023 - val_mae: 0.3506 - lr: 5.0000e-04\n",
      "Epoch 28/200\n",
      "46/46 [==============================] - 0s 4ms/step - loss: 0.2475 - mae: 0.3922 - val_loss: 0.2009 - val_mae: 0.3526 - lr: 5.0000e-04\n",
      "Epoch 29/200\n",
      "46/46 [==============================] - 0s 4ms/step - loss: 0.2457 - mae: 0.3914 - val_loss: 0.2009 - val_mae: 0.3526 - lr: 5.0000e-04\n",
      "Epoch 30/200\n",
      "46/46 [==============================] - 0s 4ms/step - loss: 0.2449 - mae: 0.3914 - val_loss: 0.2015 - val_mae: 0.3505 - lr: 5.0000e-04\n",
      "Epoch 31/200\n",
      "46/46 [==============================] - 0s 3ms/step - loss: 0.2556 - mae: 0.3998 - val_loss: 0.2002 - val_mae: 0.3517 - lr: 5.0000e-04\n",
      "Epoch 32/200\n",
      "46/46 [==============================] - 0s 4ms/step - loss: 0.2477 - mae: 0.3942 - val_loss: 0.1997 - val_mae: 0.3499 - lr: 5.0000e-04\n",
      "Epoch 33/200\n",
      "46/46 [==============================] - 0s 3ms/step - loss: 0.2467 - mae: 0.3923 - val_loss: 0.2020 - val_mae: 0.3548 - lr: 5.0000e-04\n",
      "Epoch 34/200\n",
      "46/46 [==============================] - 0s 3ms/step - loss: 0.2481 - mae: 0.3912 - val_loss: 0.2019 - val_mae: 0.3496 - lr: 5.0000e-04\n",
      "Epoch 35/200\n",
      "46/46 [==============================] - 0s 3ms/step - loss: 0.2458 - mae: 0.3935 - val_loss: 0.2004 - val_mae: 0.3496 - lr: 5.0000e-04\n",
      "Epoch 36/200\n",
      "46/46 [==============================] - 0s 3ms/step - loss: 0.2370 - mae: 0.3836 - val_loss: 0.1977 - val_mae: 0.3479 - lr: 5.0000e-04\n",
      "Epoch 37/200\n",
      "46/46 [==============================] - 0s 3ms/step - loss: 0.2321 - mae: 0.3839 - val_loss: 0.1990 - val_mae: 0.3446 - lr: 5.0000e-04\n",
      "Epoch 38/200\n",
      "46/46 [==============================] - 0s 3ms/step - loss: 0.2368 - mae: 0.3832 - val_loss: 0.1978 - val_mae: 0.3426 - lr: 5.0000e-04\n",
      "Epoch 39/200\n",
      "46/46 [==============================] - 0s 3ms/step - loss: 0.2408 - mae: 0.3847 - val_loss: 0.1986 - val_mae: 0.3463 - lr: 5.0000e-04\n",
      "Epoch 40/200\n",
      "46/46 [==============================] - 0s 3ms/step - loss: 0.2282 - mae: 0.3773 - val_loss: 0.1996 - val_mae: 0.3478 - lr: 5.0000e-04\n",
      "Epoch 41/200\n",
      "46/46 [==============================] - 0s 3ms/step - loss: 0.2337 - mae: 0.3794 - val_loss: 0.2016 - val_mae: 0.3483 - lr: 5.0000e-04\n",
      "Epoch 42/200\n",
      "46/46 [==============================] - 0s 3ms/step - loss: 0.2365 - mae: 0.3787 - val_loss: 0.2000 - val_mae: 0.3498 - lr: 5.0000e-04\n",
      "Epoch 43/200\n",
      "46/46 [==============================] - 0s 3ms/step - loss: 0.2367 - mae: 0.3835 - val_loss: 0.2001 - val_mae: 0.3489 - lr: 5.0000e-04\n",
      "Epoch 44/200\n",
      "46/46 [==============================] - 0s 3ms/step - loss: 0.2372 - mae: 0.3862 - val_loss: 0.2009 - val_mae: 0.3531 - lr: 5.0000e-04\n",
      "Epoch 45/200\n",
      "46/46 [==============================] - 0s 3ms/step - loss: 0.2345 - mae: 0.3792 - val_loss: 0.2019 - val_mae: 0.3545 - lr: 5.0000e-04\n",
      "Epoch 46/200\n",
      "24/46 [==============>...............] - ETA: 0s - loss: 0.2145 - mae: 0.3636\n",
      "Epoch 46: ReduceLROnPlateau reducing learning rate to 0.0002500000118743628.\n",
      "46/46 [==============================] - 0s 3ms/step - loss: 0.2309 - mae: 0.3754 - val_loss: 0.2025 - val_mae: 0.3528 - lr: 5.0000e-04\n",
      "Epoch 47/200\n",
      "46/46 [==============================] - 0s 3ms/step - loss: 0.2321 - mae: 0.3788 - val_loss: 0.2013 - val_mae: 0.3509 - lr: 2.5000e-04\n",
      "Epoch 48/200\n",
      "46/46 [==============================] - 0s 3ms/step - loss: 0.2303 - mae: 0.3762 - val_loss: 0.2010 - val_mae: 0.3488 - lr: 2.5000e-04\n",
      "Epoch 49/200\n",
      "46/46 [==============================] - 0s 3ms/step - loss: 0.2366 - mae: 0.3836 - val_loss: 0.2011 - val_mae: 0.3503 - lr: 2.5000e-04\n",
      "Epoch 50/200\n",
      "46/46 [==============================] - 0s 3ms/step - loss: 0.2229 - mae: 0.3731 - val_loss: 0.2004 - val_mae: 0.3508 - lr: 2.5000e-04\n",
      "Epoch 51/200\n",
      "46/46 [==============================] - 0s 3ms/step - loss: 0.2274 - mae: 0.3736 - val_loss: 0.1995 - val_mae: 0.3474 - lr: 2.5000e-04\n",
      "Epoch 52/200\n",
      "46/46 [==============================] - 0s 3ms/step - loss: 0.2216 - mae: 0.3673 - val_loss: 0.1991 - val_mae: 0.3488 - lr: 2.5000e-04\n",
      "Epoch 53/200\n",
      "46/46 [==============================] - 0s 4ms/step - loss: 0.2355 - mae: 0.3779 - val_loss: 0.1989 - val_mae: 0.3484 - lr: 2.5000e-04\n",
      "Epoch 54/200\n",
      "46/46 [==============================] - 0s 3ms/step - loss: 0.2225 - mae: 0.3699 - val_loss: 0.1982 - val_mae: 0.3489 - lr: 2.5000e-04\n",
      "Epoch 55/200\n",
      "46/46 [==============================] - 0s 3ms/step - loss: 0.2264 - mae: 0.3686 - val_loss: 0.2002 - val_mae: 0.3500 - lr: 2.5000e-04\n",
      "Epoch 56/200\n",
      "28/46 [=================>............] - ETA: 0s - loss: 0.2286 - mae: 0.3692\n",
      "Epoch 56: ReduceLROnPlateau reducing learning rate to 0.0001250000059371814.\n",
      "46/46 [==============================] - 0s 4ms/step - loss: 0.2199 - mae: 0.3637 - val_loss: 0.1998 - val_mae: 0.3497 - lr: 2.5000e-04\n"
     ]
    }
   ],
   "source": [
    "# =======================\n",
    "# 3. Train Model\n",
    "# =======================\n",
    "history = ann_model.fit(\n",
    "    X_train, y_train,\n",
    "    validation_data=(X_test, y_test),\n",
    "    epochs=200, batch_size=32,\n",
    "    callbacks=callbacks,\n",
    "    verbose=1\n",
    ")\n"
   ]
  },
  {
   "cell_type": "code",
   "execution_count": 9,
   "id": "46fa387a-e390-4302-bea8-4ebb2c16b0d7",
   "metadata": {},
   "outputs": [
    {
     "name": "stdout",
     "output_type": "stream",
     "text": [
      "12/12 [==============================] - 0s 2ms/step\n"
     ]
    }
   ],
   "source": [
    "y_pred = ann_model.predict(X_test).flatten()"
   ]
  },
  {
   "cell_type": "code",
   "execution_count": 10,
   "id": "c7b24056-4a1a-4823-9a13-da9d0d6cb617",
   "metadata": {},
   "outputs": [
    {
     "name": "stdout",
     "output_type": "stream",
     "text": [
      "Improved ANN Performance:\n",
      "  RMSE: 1.5174\n",
      "  R² Score: 0.2545\n"
     ]
    }
   ],
   "source": [
    "# Inverse log-transform\n",
    "y_test_actual = np.expm1(y_test)\n",
    "y_pred_actual = np.expm1(y_pred)\n",
    "\n",
    "rmse = np.sqrt(mean_squared_error(y_test_actual, y_pred_actual))\n",
    "r2   = r2_score(y_test_actual, y_pred_actual)\n",
    "\n",
    "print(f\"Improved ANN Performance:\")\n",
    "print(f\"  RMSE: {rmse:.4f}\")\n",
    "print(f\"  R² Score: {r2:.4f}\")\n"
   ]
  },
  {
   "cell_type": "code",
   "execution_count": 9,
   "id": "6cf0e9f9-6ff6-4e65-bb0b-252bd4419a56",
   "metadata": {},
   "outputs": [
    {
     "data": {
      "image/png": "[encoded data removed]",
      "text/plain": [
       "<Figure size 640x480 with 1 Axes>"
      ]
     },
     "metadata": {},
     "output_type": "display_data"
    }
   ],
   "source": [
    "def plot_history(history, title):\n",
    "    plt.plot(history.history['loss'], label='train_loss')\n",
    "    plt.plot(history.history['val_loss'], label='val_loss')\n",
    "    plt.title(title)\n",
    "    plt.xlabel('Epochs')\n",
    "    plt.ylabel('MSE')\n",
    "    plt.legend()\n",
    "    plt.show()\n",
    "\n",
    "plot_history(history, \"ANN Training History\")\n"
   ]
  },
  {
   "cell_type": "code",
   "execution_count": 10,
   "id": "866ef002-eeec-4660-afcf-cea53fb8021a",
   "metadata": {},
   "outputs": [
    {
     "name": "stdout",
     "output_type": "stream",
     "text": [
      "12/12 [==============================] - 0s 891us/step\n",
      "ANN Performance:\n",
      "  RMSE: 1.4385\n",
      "  R² Score: 0.3300\n",
      "\n"
     ]
    },
    {
     "data": {
      "text/plain": [
       "(1.4385327623249728, 0.3299996723939477)"
      ]
     },
     "execution_count": 10,
     "metadata": {},
     "output_type": "execute_result"
    }
   ],
   "source": [
    "from sklearn.metrics import r2_score, mean_squared_error\n",
    "import numpy as np\n",
    "\n",
    "def evaluate_model(y_true, y_pred, model_name):\n",
    "    rmse = np.sqrt(mean_squared_error(y_true, y_pred))\n",
    "    r2   = r2_score(y_true, y_pred)\n",
    "    print(f\"{model_name} Performance:\")\n",
    "    print(f\"  RMSE: {rmse:.4f}\")\n",
    "    print(f\"  R² Score: {r2:.4f}\\n\")\n",
    "    return rmse, r2\n",
    "\n",
    "# ANN evaluation\n",
    "y_pred_ann = model.predict(X_test).flatten()\n",
    "evaluate_model(y_test, y_pred_ann, \"ANN\")"
   ]
  },
  {
   "cell_type": "code",
   "execution_count": null,
   "id": "a21b91f9-082c-4fda-9ddc-3c42663ae156",
   "metadata": {},
   "outputs": [],
   "source": []
  }
 ],
 "metadata": {
  "kernelspec": {
   "display_name": "Python (rafikdl)",
   "language": "python",
   "name": "rafikdl"
  },
  "language_info": {
   "codemirror_mode": {
    "name": "ipython",
    "version": 3
   },
   "file_extension": ".py",
   "mimetype": "text/x-python",
   "name": "python",
   "nbconvert_exporter": "python",
   "pygments_lexer": "ipython3",
   "version": "3.10.18"
  }
 },
 "nbformat": 4,
 "nbformat_minor": 5
}
