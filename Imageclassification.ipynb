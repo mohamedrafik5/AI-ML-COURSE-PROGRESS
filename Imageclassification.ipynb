{
 "cells": [
  {
   "cell_type": "code",
   "execution_count": 1,
   "id": "2a49cae7-12f6-45f9-97cf-b3ec90047e6d",
   "metadata": {},
   "outputs": [],
   "source": [
    "import tensorflow as tf\n",
    "from tensorflow.keras.models import Sequential\n",
    "from tensorflow.keras.layers import Conv2D, MaxPooling2D, Flatten, Dense, Dropout\n",
    "from tensorflow.keras.preprocessing.image import ImageDataGenerator"
   ]
  },
  {
   "cell_type": "code",
   "execution_count": 2,
   "id": "03e3b70e-a1ab-4cb6-a98c-350b9da73935",
   "metadata": {},
   "outputs": [],
   "source": [
    "train_datagen = ImageDataGenerator(\n",
    "    rescale=1./255,\n",
    "    rotation_range=20,\n",
    "    width_shift_range=0.2,\n",
    "    height_shift_range=0.2,\n",
    "    shear_range=0.2,\n",
    "    zoom_range=0.2,\n",
    "    horizontal_flip=True,\n",
    "    fill_mode='nearest',\n",
    "    validation_split=0.2\n",
    ")"
   ]
  },
  {
   "cell_type": "code",
   "execution_count": 3,
   "id": "262e3ef2-c137-495a-9c7c-2ec2227b63f0",
   "metadata": {},
   "outputs": [
    {
     "name": "stdout",
     "output_type": "stream",
     "text": [
      "Found 60 images belonging to 2 classes.\n",
      "Found 60 images belonging to 2 classes.\n"
     ]
    }
   ],
   "source": [
    "test_datagen = ImageDataGenerator(rescale=1.0/255)\n",
    "\n",
    "train_generator = train_datagen.flow_from_directory(\n",
    "    r'D:\\img data set',\n",
    "    target_size=(128,128),\n",
    "    batch_size=32,\n",
    "    class_mode='binary'\n",
    ")\n",
    "\n",
    "test_generator = test_datagen.flow_from_directory(\n",
    "    r'D:\\img data set',\n",
    "    target_size=(128,128),\n",
    "    batch_size=32,\n",
    "    class_mode='binary'\n",
    ")"
   ]
  },
  {
   "cell_type": "code",
   "execution_count": 4,
   "id": "1c394dcb-3a1e-436b-ada0-b68598780952",
   "metadata": {},
   "outputs": [],
   "source": [
    "model = Sequential([\n",
    "    Conv2D(32, (3,3), activation='relu', input_shape=(128,128,3)),\n",
    "    MaxPooling2D(pool_size=(2,2)),\n",
    "\n",
    "    Conv2D(64, (3,3), activation='relu'),\n",
    "    MaxPooling2D(pool_size=(2,2)),\n",
    "\n",
    "    Conv2D(128, (3,3), activation='relu'),\n",
    "    MaxPooling2D(pool_size=(2,2)),\n",
    "\n",
    "    Flatten(),\n",
    "\n",
    "    Dense(128, activation='relu'),\n",
    "    Dropout(0.5),   # helps prevent overfitting\n",
    "    Dense(1, activation='sigmoid')  # binary output\n",
    "])\n"
   ]
  },
  {
   "cell_type": "code",
   "execution_count": 5,
   "id": "d411b0f3-2ae7-4b11-820e-d6460bc4061a",
   "metadata": {},
   "outputs": [],
   "source": [
    "model.compile(\n",
    "    optimizer='adam',\n",
    "    loss='binary_crossentropy',\n",
    "    metrics=['accuracy']\n",
    ")"
   ]
  },
  {
   "cell_type": "code",
   "execution_count": 6,
   "id": "73ffd654-d0ce-4d49-b7f7-a90971f937f4",
   "metadata": {},
   "outputs": [],
   "source": [
    "from tensorflow.keras.callbacks import EarlyStopping\n",
    "\n",
    "# Stop if validation loss doesn’t improve for 3 epochs\n",
    "early_stop = EarlyStopping(\n",
    "    monitor='val_loss',\n",
    "    patience=3,\n",
    "    restore_best_weights=True\n",
    ")"
   ]
  },
  {
   "cell_type": "code",
   "execution_count": 7,
   "id": "21cc7138-18ac-40af-86f2-49a99b1bf367",
   "metadata": {},
   "outputs": [
    {
     "name": "stdout",
     "output_type": "stream",
     "text": [
      "Epoch 1/30\n",
      "2/2 [==============================] - 15s 11s/step - loss: 0.9738 - accuracy: 0.4833 - val_loss: 1.0890 - val_accuracy: 0.5000\n",
      "Epoch 2/30\n",
      "2/2 [==============================] - 11s 8s/step - loss: 0.9835 - accuracy: 0.5000 - val_loss: 0.6822 - val_accuracy: 0.5000\n",
      "Epoch 3/30\n",
      "2/2 [==============================] - 11s 8s/step - loss: 0.7306 - accuracy: 0.4167 - val_loss: 0.7073 - val_accuracy: 0.5000\n",
      "Epoch 4/30\n",
      "2/2 [==============================] - 11s 8s/step - loss: 0.6820 - accuracy: 0.5167 - val_loss: 0.6713 - val_accuracy: 0.7167\n",
      "Epoch 5/30\n",
      "2/2 [==============================] - 11s 8s/step - loss: 0.6965 - accuracy: 0.5500 - val_loss: 0.6565 - val_accuracy: 0.5333\n",
      "Epoch 6/30\n",
      "2/2 [==============================] - 11s 8s/step - loss: 0.6906 - accuracy: 0.4833 - val_loss: 0.6305 - val_accuracy: 0.7833\n",
      "Epoch 7/30\n",
      "2/2 [==============================] - 11s 8s/step - loss: 0.6463 - accuracy: 0.6500 - val_loss: 0.6007 - val_accuracy: 0.7833\n",
      "Epoch 8/30\n",
      "2/2 [==============================] - 11s 8s/step - loss: 0.6119 - accuracy: 0.7500 - val_loss: 0.5518 - val_accuracy: 0.7667\n",
      "Epoch 9/30\n",
      "2/2 [==============================] - 11s 8s/step - loss: 0.5452 - accuracy: 0.7667 - val_loss: 0.4949 - val_accuracy: 0.6667\n",
      "Epoch 10/30\n",
      "2/2 [==============================] - 11s 8s/step - loss: 0.5598 - accuracy: 0.6833 - val_loss: 0.4224 - val_accuracy: 0.8000\n",
      "Epoch 11/30\n",
      "2/2 [==============================] - 11s 8s/step - loss: 0.5152 - accuracy: 0.7833 - val_loss: 0.3448 - val_accuracy: 0.8333\n",
      "Epoch 12/30\n",
      "2/2 [==============================] - 11s 8s/step - loss: 0.4298 - accuracy: 0.8500 - val_loss: 0.3190 - val_accuracy: 0.8000\n",
      "Epoch 13/30\n",
      "2/2 [==============================] - 11s 8s/step - loss: 0.3768 - accuracy: 0.8333 - val_loss: 0.3338 - val_accuracy: 0.8500\n",
      "Epoch 14/30\n",
      "2/2 [==============================] - 11s 8s/step - loss: 0.4342 - accuracy: 0.7667 - val_loss: 0.2172 - val_accuracy: 0.9167\n",
      "Epoch 15/30\n",
      "2/2 [==============================] - 11s 8s/step - loss: 0.4361 - accuracy: 0.7833 - val_loss: 0.2134 - val_accuracy: 0.9333\n",
      "Epoch 16/30\n",
      "2/2 [==============================] - 11s 8s/step - loss: 0.4419 - accuracy: 0.8000 - val_loss: 0.2370 - val_accuracy: 0.9333\n",
      "Epoch 17/30\n",
      "2/2 [==============================] - 11s 8s/step - loss: 0.4538 - accuracy: 0.8333 - val_loss: 0.2214 - val_accuracy: 0.9333\n",
      "Epoch 18/30\n",
      "2/2 [==============================] - 11s 8s/step - loss: 0.4240 - accuracy: 0.8000 - val_loss: 0.2372 - val_accuracy: 0.9000\n"
     ]
    }
   ],
   "source": [
    "history = model.fit(\n",
    "    train_generator,\n",
    "    epochs=30,\n",
    "    validation_data=test_generator,\n",
    "    callbacks=[early_stop]\n",
    ")\n"
   ]
  },
  {
   "cell_type": "code",
   "execution_count": 8,
   "id": "454cff99-c2d7-4d1a-92aa-14aab77d0b72",
   "metadata": {},
   "outputs": [
    {
     "name": "stdout",
     "output_type": "stream",
     "text": [
      "2/2 [==============================] - 5s 2s/step - loss: 0.2134 - accuracy: 0.9333\n",
      "Test Accuracy: 93.33%\n"
     ]
    }
   ],
   "source": [
    "loss, acc = model.evaluate(test_generator)\n",
    "print(f\"Test Accuracy: {acc*100:.2f}%\")"
   ]
  },
  {
   "cell_type": "code",
   "execution_count": 14,
   "id": "ba0a4684-607e-4d36-8927-5ae85a8a35b1",
   "metadata": {},
   "outputs": [
    {
     "name": "stdout",
     "output_type": "stream",
     "text": [
      "1/1 [==============================] - 0s 48ms/step\n",
      "It's rafik\n"
     ]
    }
   ],
   "source": [
    "import numpy as np\n",
    "from tensorflow.keras.preprocessing import image\n",
    "\n",
    "img_path = r\"C:\\Users\\ASUS\\Downloads\\WhatsApp Image 2025-09-22 at 13.24.16_450b197f.jpg\" # path to your cat/dog image\n",
    "img = image.load_img(img_path, target_size=(128,128))\n",
    "img_array = image.img_to_array(img) / 255.0\n",
    "img_array = np.expand_dims(img_array, axis=0)\n",
    "\n",
    "prediction = model.predict(img_array)\n",
    "\n",
    "if prediction[0][0] > 0.5:\n",
    "    print(\"It's gopal\")\n",
    "else:\n",
    "    print(\"It's rafik\")"
   ]
  },
  {
   "cell_type": "code",
   "execution_count": null,
   "id": "2b560aa4-ec43-4df8-95e5-28eec8a0c6f7",
   "metadata": {},
   "outputs": [],
   "source": []
  }
 ],
 "metadata": {
  "kernelspec": {
   "display_name": "Python (rafikdl)",
   "language": "python",
   "name": "rafikdl"
  },
  "language_info": {
   "codemirror_mode": {
    "name": "ipython",
    "version": 3
   },
   "file_extension": ".py",
   "mimetype": "text/x-python",
   "name": "python",
   "nbconvert_exporter": "python",
   "pygments_lexer": "ipython3",
   "version": "3.10.18"
  }
 },
 "nbformat": 4,
 "nbformat_minor": 5
}
